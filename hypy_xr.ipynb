{
 "cells": [
  {
   "cell_type": "code",
   "execution_count": 2,
   "metadata": {
    "collapsed": true,
    "pycharm": {
     "is_executing": false
    }
   },
   "outputs": [],
   "source": [
    "import xarray as xr\n",
    "\n",
    "file_envi0 = \"/Users/mattolson/data/ASO/CASI/20170220/174008/CASI_2017_02_20_174008_atm_ort\"\n",
    "filename = \"/Users/mattolson/data/ASO/CASI/20170220/174008/casi_test.nc\""
   ]
  },
  {
   "cell_type": "code",
   "execution_count": 3,
   "outputs": [
    {
     "name": "stdout",
     "text": [
      "Frozen(SortedKeysDict({'x': 503, 'y': 2204}))\n",
      "Data variables:\n",
      "    transverse_mercator  |S1 ...\n",
      "    Band1                (y, x) float32 ...\n",
      "    Band2                (y, x) float32 ...\n",
      "    Band3                (y, x) float32 ...\n",
      "    Band4                (y, x) float32 ...\n",
      "    Band5                (y, x) float32 ...\n",
      "    Band6                (y, x) float32 ...\n",
      "    Band7                (y, x) float32 ...\n",
      "    Band8                (y, x) float32 ...\n",
      "    Band9                (y, x) float32 ...\n",
      "    Band10               (y, x) float32 ...\n",
      "    Band11               (y, x) float32 ...\n",
      "    Band12               (y, x) float32 ...\n",
      "    Band13               (y, x) float32 ...\n",
      "    Band14               (y, x) float32 ...\n",
      "    Band15               (y, x) float32 ...\n",
      "    Band16               (y, x) float32 ...\n",
      "    Band17               (y, x) float32 ...\n",
      "    Band18               (y, x) float32 ...\n",
      "    Band19               (y, x) float32 ...\n",
      "    Band20               (y, x) float32 ...\n",
      "    Band21               (y, x) float32 ...\n",
      "    Band22               (y, x) float32 ...\n",
      "    Band23               (y, x) float32 ...\n",
      "    Band24               (y, x) float32 ...\n",
      "    Band25               (y, x) float32 ...\n",
      "    Band26               (y, x) float32 ...\n",
      "    Band27               (y, x) float32 ...\n",
      "    Band28               (y, x) float32 ...\n",
      "    Band29               (y, x) float32 ...\n",
      "    Band30               (y, x) float32 ...\n",
      "    Band31               (y, x) float32 ...\n",
      "    Band32               (y, x) float32 ...\n",
      "    Band33               (y, x) float32 ...\n",
      "    Band34               (y, x) float32 ...\n",
      "    Band35               (y, x) float32 ...\n",
      "    Band36               (y, x) float32 ...\n",
      "    Band37               (y, x) float32 ...\n",
      "    Band38               (y, x) float32 ...\n",
      "    Band39               (y, x) float32 ...\n",
      "    Band40               (y, x) float32 ...\n",
      "    Band41               (y, x) float32 ...\n",
      "    Band42               (y, x) float32 ...\n",
      "    Band43               (y, x) float32 ...\n",
      "    Band44               (y, x) float32 ...\n",
      "    Band45               (y, x) float32 ...\n",
      "    Band46               (y, x) float32 ...\n",
      "    Band47               (y, x) float32 ...\n",
      "    Band48               (y, x) float32 ...\n",
      "    Band49               (y, x) float32 ...\n",
      "    Band50               (y, x) float32 ...\n",
      "    Band51               (y, x) float32 ...\n",
      "    Band52               (y, x) float32 ...\n",
      "    Band53               (y, x) float32 ...\n",
      "    Band54               (y, x) float32 ...\n",
      "    Band55               (y, x) float32 ...\n",
      "    Band56               (y, x) float32 ...\n",
      "    Band57               (y, x) float32 ...\n",
      "    Band58               (y, x) float32 ...\n",
      "    Band59               (y, x) float32 ...\n",
      "    Band60               (y, x) float32 ...\n",
      "    Band61               (y, x) float32 ...\n",
      "    Band62               (y, x) float32 ...\n",
      "    Band63               (y, x) float32 ...\n",
      "    Band64               (y, x) float32 ...\n",
      "    Band65               (y, x) float32 ...\n",
      "    Band66               (y, x) float32 ...\n",
      "    Band67               (y, x) float32 ...\n",
      "    Band68               (y, x) float32 ...\n",
      "    Band69               (y, x) float32 ...\n",
      "    Band70               (y, x) float32 ...\n",
      "    Band71               (y, x) float32 ...\n",
      "    Band72               (y, x) float32 ...\n"
     ],
     "output_type": "stream"
    }
   ],
   "source": [
    "data = xr.open_dataset(filename)\n",
    "\n",
    "print(data.dims)\n",
    "print(data.data_vars)"
   ],
   "metadata": {
    "collapsed": false,
    "pycharm": {
     "name": "#%% WORKS\n",
     "is_executing": false
    }
   }
  },
  {
   "cell_type": "code",
   "execution_count": 4,
   "outputs": [
    {
     "name": "stdout",
     "text": [
      "(72, 2204, 503)\n"
     ],
     "output_type": "stream"
    }
   ],
   "source": [
    "dat = xr.open_rasterio(file_envi0)\n",
    "print(dat.shape)\n",
    "\n",
    "dat2 = dat.to_masked_array(-9999.0)"
   ],
   "metadata": {
    "collapsed": false,
    "pycharm": {
     "name": "#%% WORKS\n",
     "is_executing": false
    }
   }
  },
  {
   "cell_type": "code",
   "execution_count": 13,
   "outputs": [
    {
     "data": {
      "text/plain": "ImageView object:\n  Display bands       :  [0]\n  Interpolation       :  <default>\n  RGB data limits     :\n    R: [-9999.0, 140.4566650390625]\n    G: [-9999.0, 140.4566650390625]\n    B: [-9999.0, 140.4566650390625]"
     },
     "metadata": {},
     "output_type": "execute_result",
     "execution_count": 13
    },
    {
     "data": {
      "text/plain": "<Figure size 432x288 with 1 Axes>",
      "image/png": "[encoded data removed]"
     },
     "metadata": {
      "needs_background": "light"
     },
     "output_type": "display_data"
    }
   ],
   "source": [
    "imshow(dat2[29])"
   ],
   "metadata": {
    "collapsed": false,
    "pycharm": {
     "name": "#%%\n",
     "is_executing": false
    }
   }
  },
  {
   "cell_type": "markdown",
   "source": [
    "### Hello\n"
   ],
   "metadata": {
    "collapsed": false,
    "pycharm": {
     "name": "#%% md\n",
     "is_executing": false
    }
   }
  },
  {
   "cell_type": "code",
   "execution_count": 14,
   "outputs": [
    {
     "data": {
      "text/plain": "(2204, 503, 72)"
     },
     "metadata": {},
     "output_type": "execute_result",
     "execution_count": 14
    }
   ],
   "source": [
    "import spectral.io.envi as envi\n",
    "\n",
    "file_envi = \"/Users/mattolson/data/ASO/CASI/20170220/174008/CASI_2017_02_20_174008_atm_ort.hdr\"\n",
    "img = envi.open(file_envi)\n",
    "img.shape"
   ],
   "metadata": {
    "collapsed": false,
    "pycharm": {
     "name": "#%%\n",
     "is_executing": false
    }
   }
  },
  {
   "cell_type": "code",
   "execution_count": 15,
   "outputs": [
    {
     "name": "stdout",
     "text": [
      "<class 'list'>\n"
     ],
     "output_type": "stream"
    }
   ],
   "source": [
    "import numpy as np\n",
    "\n",
    "# define bands\n",
    "rgb = [.660, .550, .470]\n",
    "print(rgb.__class__)\n",
    "wv = img.bands.centers\n",
    "# b_diff = np.abs(rgb - wv)\n",
    "# rgb_idx = np.where(np.min(b_diff))\n",
    "# rgb_idx\n",
    "#np.min(np.where(x==2))\n",
    "wv_nm = min(wv, key=lambda x:abs(x-rgb[0]))"
   ],
   "metadata": {
    "collapsed": false,
    "pycharm": {
     "name": "#%%\n",
     "is_executing": false
    }
   }
  },
  {
   "cell_type": "code",
   "execution_count": 16,
   "outputs": [
    {
     "data": {
      "text/plain": "array([31, 19, 11])"
     },
     "metadata": {},
     "output_type": "execute_result",
     "execution_count": 16
    }
   ],
   "source": [
    "# get closest match\n",
    "v = np.zeros(3, int)\n",
    "for i, x in enumerate(rgb):\n",
    "    v[i] = (np.argmin(abs(np.asarray(wv)-x)))\n",
    "v"
   ],
   "metadata": {
    "collapsed": false,
    "pycharm": {
     "name": "#%%\n",
     "is_executing": false
    }
   }
  },
  {
   "cell_type": "code",
   "execution_count": 17,
   "outputs": [
    {
     "data": {
      "text/plain": "ImageView object:\n  Display bands       :  (31, 19, 11)\n  Interpolation       :  <default>\n  RGB data limits     :\n    R: [-99.98999786376953, 1.4111133813858032]\n    G: [-99.98999786376953, 1.3512991666793823]\n    B: [-99.98999786376953, 1.2676031589508057]"
     },
     "metadata": {},
     "output_type": "execute_result",
     "execution_count": 17
    },
    {
     "data": {
      "text/plain": "<Figure size 432x288 with 1 Axes>",
      "image/png": "[encoded data removed]"
     },
     "metadata": {
      "needs_background": "light"
     },
     "output_type": "display_data"
    }
   ],
   "source": [
    "from spectral import *\n",
    "img2 = img.metadata\n",
    "imshow(img, tuple(v), vmin = 0)"
   ],
   "metadata": {
    "collapsed": false,
    "pycharm": {
     "name": "#%%\n",
     "is_executing": false
    }
   }
  },
  {
   "cell_type": "code",
   "execution_count": 25,
   "outputs": [],
   "source": [
    "# doesn't work\n",
    "# import xarray as xr\n",
    "# ixr = xr.open_dataset(file_envi)\n",
    "# ixr"
   ],
   "metadata": {
    "collapsed": false,
    "pycharm": {
     "name": "#%%\n",
     "is_executing": false
    }
   }
  },
  {
   "cell_type": "code",
   "execution_count": 20,
   "outputs": [
    {
     "name": "stdout",
     "text": [
      "(2204, 503)\n",
      "(72, 2204, 503)\n"
     ],
     "output_type": "stream"
    },
    {
     "data": {
      "text/plain": "(72, 2204, 503)"
     },
     "metadata": {},
     "output_type": "execute_result",
     "execution_count": 20
    }
   ],
   "source": [
    "import rasterio\n",
    "r = rasterio.open(file_envi0)\n",
    "# imshow(r, tuple(v))\n",
    "print(r.shape)\n",
    "arr = r.read()\n",
    "print(arr.shape)\n",
    "r.nodatavals\n",
    "msk = r.read_masks()\n",
    "msk.shape"
   ],
   "metadata": {
    "collapsed": false,
    "pycharm": {
     "name": "#%%\n",
     "is_executing": false
    }
   }
  },
  {
   "cell_type": "code",
   "execution_count": 23,
   "outputs": [
    {
     "data": {
      "text/plain": "<Figure size 432x288 with 1 Axes>",
      "image/png": "[encoded data removed]"
     },
     "metadata": {
      "needs_background": "light"
     },
     "output_type": "display_data"
    },
    {
     "data": {
      "text/plain": "<Figure size 432x288 with 1 Axes>",
      "image/png": "[encoded data removed]"
     },
     "metadata": {
      "needs_background": "light"
     },
     "output_type": "display_data"
    },
    {
     "data": {
      "text/plain": "[<matplotlib.lines.Line2D at 0x171361eb8>]"
     },
     "metadata": {},
     "output_type": "execute_result",
     "execution_count": 23
    },
    {
     "data": {
      "text/plain": "<Figure size 432x288 with 1 Axes>",
      "image/png": "[encoded data removed]"
     },
     "metadata": {
      "needs_background": "light"
     },
     "output_type": "display_data"
    }
   ],
   "source": [
    "import matplotlib.pyplot as plt\n",
    "plt.imshow(msk[50], cmap='Reds')\n",
    "plt.show()\n",
    "\n",
    "plt.hist(msk[50], bins=10)\n",
    "plt.show()"
   ],
   "metadata": {
    "collapsed": false,
    "pycharm": {
     "name": "#%%\n",
     "is_executing": false
    }
   }
  },
  {
   "cell_type": "code",
   "execution_count": 24,
   "outputs": [
    {
     "data": {
      "text/plain": "72"
     },
     "metadata": {},
     "output_type": "execute_result",
     "execution_count": 24
    }
   ],
   "source": [
    "len(msk[:,1200,260])\n"
   ],
   "metadata": {
    "collapsed": false,
    "pycharm": {
     "name": "#%% single cell spectra\n",
     "is_executing": false
    }
   }
  },
  {
   "cell_type": "code",
   "execution_count": 11,
   "outputs": [
    {
     "traceback": [
      "\u001b[0;31m---------------------------------------------------------------------------\u001b[0m",
      "\u001b[0;31mNameError\u001b[0m                                 Traceback (most recent call last)",
      "\u001b[0;32m<ipython-input-11-bf7b24a5fb13>\u001b[0m in \u001b[0;36m<module>\u001b[0;34m\u001b[0m\n\u001b[1;32m      1\u001b[0m \u001b[0;32mfrom\u001b[0m \u001b[0mrasterio\u001b[0m\u001b[0;34m.\u001b[0m\u001b[0mplot\u001b[0m \u001b[0;32mimport\u001b[0m \u001b[0mshow\u001b[0m\u001b[0;34m\u001b[0m\u001b[0;34m\u001b[0m\u001b[0m\n\u001b[0;32m----> 2\u001b[0;31m \u001b[0mmsk_rgb\u001b[0m \u001b[0;34m=\u001b[0m \u001b[0mmsk\u001b[0m\u001b[0;34m[\u001b[0m\u001b[0mnp\u001b[0m\u001b[0;34m.\u001b[0m\u001b[0mappend\u001b[0m\u001b[0;34m(\u001b[0m\u001b[0mv\u001b[0m\u001b[0;34m,\u001b[0m\u001b[0;36m30\u001b[0m\u001b[0;34m)\u001b[0m\u001b[0;34m]\u001b[0m\u001b[0;34m\u001b[0m\u001b[0;34m\u001b[0m\u001b[0m\n\u001b[0m\u001b[1;32m      3\u001b[0m \u001b[0mprint\u001b[0m\u001b[0;34m(\u001b[0m\u001b[0mmsk_rgb\u001b[0m\u001b[0;34m.\u001b[0m\u001b[0mshape\u001b[0m\u001b[0;34m)\u001b[0m\u001b[0;34m\u001b[0m\u001b[0;34m\u001b[0m\u001b[0m\n\u001b[1;32m      4\u001b[0m \u001b[0mshow\u001b[0m\u001b[0;34m(\u001b[0m\u001b[0mmsk_rgb\u001b[0m\u001b[0;34m)\u001b[0m\u001b[0;34m\u001b[0m\u001b[0;34m\u001b[0m\u001b[0m\n\u001b[1;32m      5\u001b[0m \u001b[0;34m\u001b[0m\u001b[0m\n",
      "\u001b[0;31mNameError\u001b[0m: name 'msk' is not defined"
     ],
     "ename": "NameError",
     "evalue": "name 'msk' is not defined",
     "output_type": "error"
    }
   ],
   "source": [
    "from rasterio.plot import show\n",
    "msk_rgb = msk[np.append(v,30)]\n",
    "print(msk_rgb.shape)\n",
    "show(msk_rgb)"
   ],
   "metadata": {
    "collapsed": false,
    "pycharm": {
     "name": "#%%\n",
     "is_executing": false
    }
   }
  },
  {
   "cell_type": "code",
   "execution_count": 12,
   "outputs": [
    {
     "data": {
      "text/plain": "<matplotlib.image.AxesImage at 0x14cee9320>"
     },
     "metadata": {},
     "output_type": "execute_result",
     "execution_count": 12
    },
    {
     "data": {
      "text/plain": "<Figure size 432x288 with 1 Axes>",
      "image/png": "[encoded data removed]"
     },
     "metadata": {
      "needs_background": "light"
     },
     "output_type": "display_data"
    }
   ],
   "source": [
    "# pr specific band combo\n",
    "import rasterio\n",
    "import numpy as np\n",
    "import matplotlib.pyplot as plt\n",
    "\n",
    "# Open the file:\n",
    "raster = r\n",
    "\n",
    "# Normalize bands into 0.0 - 1.0 scale\n",
    "def normalize(array):\n",
    "    array_min, array_max = array.min(), array.max()\n",
    "    return (array - array_min) / (array_max - array_min)\n",
    "\n",
    "# Convert to numpy arrays\n",
    "nir = raster.read(4)\n",
    "red = raster.read(3)\n",
    "green = raster.read(2)\n",
    "\n",
    "# Normalize band DN\n",
    "nir_norm = normalize(nir)\n",
    "red_norm = normalize(red)\n",
    "green_norm = normalize(green)\n",
    "\n",
    "# Stack bands\n",
    "nrg = np.dstack((nir_norm, red_norm, green_norm))\n",
    "\n",
    "# View the color composite\n",
    "plt.imshow(nrg)\n"
   ],
   "metadata": {
    "collapsed": false,
    "pycharm": {
     "name": "#%%\n",
     "is_executing": false
    }
   }
  },
  {
   "cell_type": "code",
   "execution_count": null,
   "outputs": [],
   "source": [
    "\n"
   ],
   "metadata": {
    "collapsed": false,
    "pycharm": {
     "name": "#%%\n"
    }
   }
  }
 ],
 "metadata": {
  "kernelspec": {
   "name": "python3",
   "language": "python",
   "display_name": "Python 3"
  },
  "language_info": {
   "codemirror_mode": {
    "name": "ipython",
    "version": 2
   },
   "file_extension": ".py",
   "mimetype": "text/x-python",
   "name": "python",
   "nbconvert_exporter": "python",
   "pygments_lexer": "ipython2",
   "version": "2.7.6"
  },
  "pycharm": {
   "stem_cell": {
    "cell_type": "raw",
    "source": [],
    "metadata": {
     "collapsed": false
    }
   }
  }
 },
 "nbformat": 4,
 "nbformat_minor": 0
}